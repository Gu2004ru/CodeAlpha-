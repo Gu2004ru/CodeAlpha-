{
 "cells": [
  {
   "cell_type": "markdown",
   "id": "d349c1f3",
   "metadata": {},
   "source": [
    "# Task 1: Credit Scoring Model"
   ]
  },
  {
   "cell_type": "code",
   "execution_count": null,
   "id": "6c01400d",
   "metadata": {},
   "outputs": [],
   "source": [
    "import numpy as np\n",
    "import pandas as pd\n",
    "from sklearn.model_selection import train_test_split\n",
    "from sklearn.metrics import classification_report, confusion_matrix, roc_auc_score, roc_curve\n",
    "from sklearn.linear_model import LogisticRegression\n",
    "from sklearn.tree import DecisionTreeClassifier\n",
    "from sklearn.ensemble import RandomForestClassifier\n",
    "import matplotlib.pyplot as plt\n",
    "\n",
    "# Generate synthetic financial dataset\n",
    "np.random.seed(42)\n",
    "n = 1000\n",
    "income = np.random.normal(50000, 15000, n)\n",
    "debt = np.random.normal(20000, 8000, n)\n",
    "history = np.random.randint(0, 2, n)\n",
    "default = (0.3*(debt/income) + 0.6*history + np.random.normal(0,0.1,n)) > 0.5\n",
    "\n",
    "df = pd.DataFrame({'income':income, 'debt':debt, 'history':history, 'default':default.astype(int)})\n",
    "X = df[['income','debt','history']]\n",
    "y = df['default']\n",
    "X_train,X_test,y_train,y_test = train_test_split(X,y,test_size=0.2,random_state=42)\n",
    "\n",
    "models = {\n",
    "    \"LogReg\": LogisticRegression(),\n",
    "    \"DecisionTree\": DecisionTreeClassifier(),\n",
    "    \"RandomForest\": RandomForestClassifier()\n",
    "}\n",
    "\n",
    "for name, model in models.items():\n",
    "    model.fit(X_train,y_train)\n",
    "    y_pred = model.predict(X_test)\n",
    "    print(f\"--- {name} ---\")\n",
    "    print(classification_report(y_test,y_pred))\n",
    "    if hasattr(model,\"predict_proba\"):\n",
    "        y_proba = model.predict_proba(X_test)[:,1]\n",
    "        fpr,tpr,_ = roc_curve(y_test,y_proba)\n",
    "        plt.plot(fpr,tpr,label=name)\n",
    "plt.plot([0,1],[0,1],'k--')\n",
    "plt.legend()\n",
    "plt.title(\"ROC Curves\")\n",
    "plt.show()"
   ]
  }
 ],
 "metadata": {},
 "nbformat": 4,
 "nbformat_minor": 5
}
