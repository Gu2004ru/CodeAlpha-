{
 "cells": [
  {
   "cell_type": "markdown",
   "id": "c5c6bddc",
   "metadata": {},
   "source": [
    "# Task 3: Handwritten Character Recognition"
   ]
  },
  {
   "cell_type": "code",
   "execution_count": null,
   "id": "b3df00be",
   "metadata": {},
   "outputs": [],
   "source": [
    "from sklearn.datasets import load_digits\n",
    "from sklearn.model_selection import train_test_split\n",
    "from sklearn.neural_network import MLPClassifier\n",
    "from sklearn.metrics import classification_report, confusion_matrix\n",
    "\n",
    "digits = load_digits()\n",
    "X = digits.data\n",
    "y = digits.target\n",
    "X_train,X_test,y_train,y_test = train_test_split(X,y,test_size=0.2,random_state=42)\n",
    "\n",
    "mlp = MLPClassifier(hidden_layer_sizes=(64,),max_iter=500)\n",
    "mlp.fit(X_train,y_train)\n",
    "y_pred = mlp.predict(X_test)\n",
    "\n",
    "print(classification_report(y_test,y_pred))"
   ]
  }
 ],
 "metadata": {},
 "nbformat": 4,
 "nbformat_minor": 5
}
