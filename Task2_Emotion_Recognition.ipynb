{
 "cells": [
  {
   "cell_type": "markdown",
   "id": "0207bdc6",
   "metadata": {},
   "source": [
    "# Task 2: Emotion Recognition from Speech"
   ]
  },
  {
   "cell_type": "code",
   "execution_count": null,
   "id": "d339bb60",
   "metadata": {},
   "outputs": [],
   "source": [
    "import numpy as np\n",
    "import pandas as pd\n",
    "from sklearn.model_selection import train_test_split\n",
    "from sklearn.ensemble import RandomForestClassifier\n",
    "from sklearn.metrics import classification_report, confusion_matrix\n",
    "\n",
    "# Synthetic features (spectral features like MFCC simulated)\n",
    "np.random.seed(42)\n",
    "n=1000\n",
    "features = np.random.rand(n,20)\n",
    "labels = np.random.choice([\"happy\",\"sad\",\"angry\",\"neutral\"],n)\n",
    "\n",
    "X_train,X_test,y_train,y_test = train_test_split(features,labels,test_size=0.2,random_state=42)\n",
    "clf = RandomForestClassifier()\n",
    "clf.fit(X_train,y_train)\n",
    "y_pred = clf.predict(X_test)\n",
    "print(classification_report(y_test,y_pred))"
   ]
  }
 ],
 "metadata": {},
 "nbformat": 4,
 "nbformat_minor": 5
}
